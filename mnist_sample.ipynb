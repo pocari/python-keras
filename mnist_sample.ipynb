{
 "cells": [
  {
   "cell_type": "code",
   "execution_count": 1,
   "metadata": {},
   "outputs": [
    {
     "name": "stderr",
     "output_type": "stream",
     "text": [
      "Using TensorFlow backend.\n"
     ]
    }
   ],
   "source": [
    "import keras\n",
    "import numpy as np\n",
    "\n",
    "from keras.datasets import mnist\n",
    "from keras.models import Sequential\n",
    "from keras.layers import Dense, Dropout\n",
    "from keras.optimizers import RMSprop\n",
    "\n",
    "from matplotlib import pyplot as plt\n",
    "from matplotlib import cm\n",
    "\n",
    "batch_size = 128\n",
    "num_classes = 10\n",
    "epochs = 20"
   ]
  },
  {
   "cell_type": "code",
   "execution_count": 3,
   "metadata": {},
   "outputs": [
    {
     "name": "stdout",
     "output_type": "stream",
     "text": [
      "Downloading data from https://s3.amazonaws.com/img-datasets/mnist.npz\n",
      "11493376/11490434 [==============================] - 9s 1us/step\n"
     ]
    }
   ],
   "source": [
    "(x_train, y_train), (x_test, y_test) = mnist.load_data()"
   ]
  },
  {
   "cell_type": "code",
   "execution_count": 4,
   "metadata": {},
   "outputs": [
    {
     "name": "stdout",
     "output_type": "stream",
     "text": [
      "60000 train samples\n",
      "10000 test samples\n"
     ]
    }
   ],
   "source": [
    "x_train = x_train.reshape(60000, 784) # 2次元配列を1次元に変換\n",
    "x_test = x_test.reshape(10000, 784)\n",
    "x_train = x_train.astype('float32')   # int型をfloat32型に変換\n",
    "x_test = x_test.astype('float32')\n",
    "x_train /= 255                        # [0-255]の値を[0.0-1.0]に変換\n",
    "x_test /= 255\n",
    "print(x_train.shape[0], 'train samples')\n",
    "print(x_test.shape[0], 'test samples')"
   ]
  },
  {
   "cell_type": "code",
   "execution_count": 5,
   "metadata": {},
   "outputs": [],
   "source": [
    "# convert class vectors to binary class matrices\n",
    "y_train = keras.utils.to_categorical(y_train, num_classes)\n",
    "y_test = keras.utils.to_categorical(y_test, num_classes)"
   ]
  },
  {
   "cell_type": "code",
   "execution_count": 6,
   "metadata": {},
   "outputs": [
    {
     "name": "stdout",
     "output_type": "stream",
     "text": [
      "WARNING:tensorflow:From /opt/conda/lib/python3.7/site-packages/tensorflow/python/framework/op_def_library.py:263: colocate_with (from tensorflow.python.framework.ops) is deprecated and will be removed in a future version.\n",
      "Instructions for updating:\n",
      "Colocations handled automatically by placer.\n",
      "WARNING:tensorflow:From /opt/conda/lib/python3.7/site-packages/keras/backend/tensorflow_backend.py:3445: calling dropout (from tensorflow.python.ops.nn_ops) with keep_prob is deprecated and will be removed in a future version.\n",
      "Instructions for updating:\n",
      "Please use `rate` instead of `keep_prob`. Rate should be set to `rate = 1 - keep_prob`.\n",
      "_________________________________________________________________\n",
      "Layer (type)                 Output Shape              Param #   \n",
      "=================================================================\n",
      "dense_1 (Dense)              (None, 512)               401920    \n",
      "_________________________________________________________________\n",
      "dropout_1 (Dropout)          (None, 512)               0         \n",
      "_________________________________________________________________\n",
      "dense_2 (Dense)              (None, 512)               262656    \n",
      "_________________________________________________________________\n",
      "dropout_2 (Dropout)          (None, 512)               0         \n",
      "_________________________________________________________________\n",
      "dense_3 (Dense)              (None, 10)                5130      \n",
      "=================================================================\n",
      "Total params: 669,706\n",
      "Trainable params: 669,706\n",
      "Non-trainable params: 0\n",
      "_________________________________________________________________\n"
     ]
    }
   ],
   "source": [
    "model = Sequential()\n",
    "model.add(Dense(512, activation='relu', input_shape=(784,)))\n",
    "model.add(Dropout(0.2))\n",
    "model.add(Dense(512, activation='relu'))\n",
    "model.add(Dropout(0.2))\n",
    "model.add(Dense(10, activation='softmax'))\n",
    "\n",
    "model.summary()\n",
    "model.compile(loss='categorical_crossentropy',\n",
    "              optimizer=RMSprop(),\n",
    "              metrics=['accuracy'])"
   ]
  },
  {
   "cell_type": "code",
   "execution_count": 7,
   "metadata": {},
   "outputs": [
    {
     "name": "stdout",
     "output_type": "stream",
     "text": [
      "WARNING:tensorflow:From /opt/conda/lib/python3.7/site-packages/tensorflow/python/ops/math_ops.py:3066: to_int32 (from tensorflow.python.ops.math_ops) is deprecated and will be removed in a future version.\n",
      "Instructions for updating:\n",
      "Use tf.cast instead.\n",
      "Train on 60000 samples, validate on 10000 samples\n",
      "Epoch 1/20\n",
      "60000/60000 [==============================] - 5s 76us/step - loss: 0.2455 - acc: 0.9255 - val_loss: 0.1020 - val_acc: 0.9693\n",
      "Epoch 2/20\n",
      "60000/60000 [==============================] - 5s 80us/step - loss: 0.1022 - acc: 0.9694 - val_loss: 0.0864 - val_acc: 0.9747\n",
      "Epoch 3/20\n",
      "60000/60000 [==============================] - 5s 76us/step - loss: 0.0755 - acc: 0.9774 - val_loss: 0.0622 - val_acc: 0.9830\n",
      "Epoch 4/20\n",
      "60000/60000 [==============================] - 5s 77us/step - loss: 0.0605 - acc: 0.9817 - val_loss: 0.0659 - val_acc: 0.9818\n",
      "Epoch 5/20\n",
      "60000/60000 [==============================] - 4s 73us/step - loss: 0.0502 - acc: 0.9849 - val_loss: 0.0693 - val_acc: 0.9820\n",
      "Epoch 6/20\n",
      "60000/60000 [==============================] - 4s 69us/step - loss: 0.0430 - acc: 0.9869 - val_loss: 0.0819 - val_acc: 0.9807\n",
      "Epoch 7/20\n",
      "60000/60000 [==============================] - 5s 76us/step - loss: 0.0400 - acc: 0.9883 - val_loss: 0.0703 - val_acc: 0.9825\n",
      "Epoch 8/20\n",
      "60000/60000 [==============================] - 5s 78us/step - loss: 0.0335 - acc: 0.9899 - val_loss: 0.0934 - val_acc: 0.9803\n",
      "Epoch 9/20\n",
      "60000/60000 [==============================] - 5s 77us/step - loss: 0.0315 - acc: 0.9904 - val_loss: 0.0863 - val_acc: 0.9812\n",
      "Epoch 10/20\n",
      "60000/60000 [==============================] - 5s 75us/step - loss: 0.0274 - acc: 0.9915 - val_loss: 0.0836 - val_acc: 0.9836\n",
      "Epoch 11/20\n",
      "60000/60000 [==============================] - 5s 76us/step - loss: 0.0271 - acc: 0.9920 - val_loss: 0.0859 - val_acc: 0.9833\n",
      "Epoch 12/20\n",
      "60000/60000 [==============================] - 4s 74us/step - loss: 0.0248 - acc: 0.9930 - val_loss: 0.0862 - val_acc: 0.9841\n",
      "Epoch 13/20\n",
      "60000/60000 [==============================] - 4s 74us/step - loss: 0.0229 - acc: 0.9934 - val_loss: 0.0925 - val_acc: 0.9819\n",
      "Epoch 14/20\n",
      "60000/60000 [==============================] - 5s 75us/step - loss: 0.0221 - acc: 0.9938 - val_loss: 0.0950 - val_acc: 0.9829\n",
      "Epoch 15/20\n",
      "60000/60000 [==============================] - 5s 77us/step - loss: 0.0199 - acc: 0.9943 - val_loss: 0.0800 - val_acc: 0.9857\n",
      "Epoch 16/20\n",
      "60000/60000 [==============================] - 7s 111us/step - loss: 0.0185 - acc: 0.9944 - val_loss: 0.1012 - val_acc: 0.9814\n",
      "Epoch 17/20\n",
      "60000/60000 [==============================] - 7s 123us/step - loss: 0.0188 - acc: 0.9946 - val_loss: 0.1042 - val_acc: 0.9833\n",
      "Epoch 18/20\n",
      "60000/60000 [==============================] - 5s 88us/step - loss: 0.0165 - acc: 0.9954 - val_loss: 0.0970 - val_acc: 0.9842\n",
      "Epoch 19/20\n",
      "60000/60000 [==============================] - 4s 74us/step - loss: 0.0179 - acc: 0.9951 - val_loss: 0.0999 - val_acc: 0.9823\n",
      "Epoch 20/20\n",
      "60000/60000 [==============================] - 5s 75us/step - loss: 0.0163 - acc: 0.9957 - val_loss: 0.1119 - val_acc: 0.9827\n"
     ]
    }
   ],
   "source": [
    "history = model.fit(x_train, y_train,  # 画像とラベルデータ\n",
    "                    batch_size=batch_size,\n",
    "                    epochs=epochs,     # エポック数の指定\n",
    "                    verbose=1,         # ログ出力の指定. 0だとログが出ない\n",
    "                    validation_data=(x_test, y_test))"
   ]
  },
  {
   "cell_type": "code",
   "execution_count": 8,
   "metadata": {},
   "outputs": [
    {
     "name": "stdout",
     "output_type": "stream",
     "text": [
      "Test loss: 0.1118649610947989\n",
      "Test accuracy: 0.9827\n"
     ]
    }
   ],
   "source": [
    "score = model.evaluate(x_test, y_test, verbose=0)\n",
    "print('Test loss:', score[0])\n",
    "print('Test accuracy:', score[1])"
   ]
  },
  {
   "cell_type": "code",
   "execution_count": 9,
   "metadata": {},
   "outputs": [
    {
     "name": "stdout",
     "output_type": "stream",
     "text": [
      "[4]\n"
     ]
    },
    {
     "data": {
      "text/plain": [
       "<matplotlib.image.AxesImage at 0x7f629b459860>"
      ]
     },
     "execution_count": 9,
     "metadata": {},
     "output_type": "execute_result"
    },
    {
     "data": {
      "image/png": "[encoded data removed]",
      "text/plain": [
       "<Figure size 432x288 with 1 Axes>"
      ]
     },
     "metadata": {
      "needs_background": "light"
     },
     "output_type": "display_data"
    }
   ],
   "source": [
    "# i番目の画像を　分類してみる\n",
    "i = 301\n",
    "\n",
    "# 予測した数字\n",
    "print(model.predict_classes(x_test[i-1:i,]))\n",
    "\n",
    "# 実際のイメージ\n",
    "plt.imshow(x_test[i - 1].reshape(28, 28), cmap=cm.gray_r)"
   ]
  },
  {
   "cell_type": "code",
   "execution_count": null,
   "metadata": {},
   "outputs": [],
   "source": []
  }
 ],
 "metadata": {
  "kernelspec": {
   "display_name": "Python 3",
   "language": "python",
   "name": "python3"
  },
  "language_info": {
   "codemirror_mode": {
    "name": "ipython",
    "version": 3
   },
   "file_extension": ".py",
   "mimetype": "text/x-python",
   "name": "python",
   "nbconvert_exporter": "python",
   "pygments_lexer": "ipython3",
   "version": "3.7.3"
  }
 },
 "nbformat": 4,
 "nbformat_minor": 2
}
